{
 "cells": [
  {
   "cell_type": "code",
   "execution_count": 15,
   "metadata": {},
   "outputs": [],
   "source": [
    "import xml.etree.ElementTree as ET\n",
    "\n",
    "tree = ET.ElementTree(file='map.osm')\n",
    "root = tree.getroot()"
   ]
  },
  {
   "cell_type": "code",
   "execution_count": 16,
   "metadata": {},
   "outputs": [],
   "source": [
    "data = {}\n",
    "node_info = {}\n",
    "\n",
    "def parse_way(way):\n",
    "    nodes = []\n",
    "    for w in way:\n",
    "        if w.tag == 'nd':\n",
    "            nodes.append(w.attrib['ref'])\n",
    "    return nodes\n",
    "\n",
    "def create_node(nodes, i):\n",
    "    length = len(nodes)\n",
    "    if i == 0:\n",
    "        pre_node = None\n",
    "        next_node = nodes[i+1]\n",
    "    elif i == length-1:\n",
    "        pre_node = nodes[i-1]\n",
    "        next_node = None\n",
    "    else:\n",
    "        pre_node = nodes[i-1]\n",
    "        next_node = nodes[i+1]\n",
    "    return pre_node, nodes[i], next_node\n",
    "\n",
    "def create_data_info(current_node):\n",
    "    lat, lon = node_info[current_node]['lat'], node_info[current_node]['lon']\n",
    "    data[current_node] = {'lat': lat, 'lon':lon,'adj':[]}\n",
    "\n",
    "def add_nodes(nodes):\n",
    "    length = len(nodes)\n",
    "    for i in range(length):\n",
    "        pre_node, current_node, next_node = create_node(nodes, i)\n",
    "        if not data.has_key(current_node):\n",
    "            create_data_info(current_node)\n",
    "        if pre_node:\n",
    "            data[current_node]['adj'].append(pre_node)\n",
    "        if next_node:\n",
    "            data[current_node]['adj'].append(next_node)\n",
    "\n",
    "def create_nodes_info(node):\n",
    "    node_id, lat, lon = node.attrib['id'], node.attrib['lat'], node.attrib['lon']\n",
    "    node_info[node_id] = {'lat': float(lat), 'lon': float(lon)}\n",
    "    \n",
    "for child_root in root:\n",
    "    if child_root.tag == 'way':\n",
    "        nodes = parse_way(child_root)\n",
    "        add_nodes(nodes)\n",
    "    elif child_root.tag == 'node':\n",
    "        create_nodes_info(child_root)\n",
    "#data        "
   ]
  },
  {
   "cell_type": "code",
   "execution_count": 17,
   "metadata": {},
   "outputs": [],
   "source": [
    "import json\n",
    "\n",
    "def store_json(data):\n",
    "    with open('nodes.json', 'w') as f:\n",
    "        f.write(json.dumps(data))\n",
    "\n",
    "store_json(data)"
   ]
  },
  {
   "cell_type": "code",
   "execution_count": null,
   "metadata": {},
   "outputs": [],
   "source": []
  }
 ],
 "metadata": {
  "kernelspec": {
   "display_name": "Python 2",
   "language": "python",
   "name": "python2"
  },
  "language_info": {
   "codemirror_mode": {
    "name": "ipython",
    "version": 2
   },
   "file_extension": ".py",
   "mimetype": "text/x-python",
   "name": "python",
   "nbconvert_exporter": "python",
   "pygments_lexer": "ipython2",
   "version": "2.7.15"
  }
 },
 "nbformat": 4,
 "nbformat_minor": 2
}
